{
 "cells": [
  {
   "cell_type": "markdown",
   "metadata": {},
   "source": [
    "> # Real Time data extraction from telegram channel"
   ]
  },
  {
   "cell_type": "code",
   "execution_count": 1,
   "metadata": {},
   "outputs": [],
   "source": [
    "import os\n",
    "os.chdir('..')\n",
    "import warnings\n",
    "warnings.filterwarnings('ignore')\n",
    "import pandas as pd"
   ]
  },
  {
   "cell_type": "markdown",
   "metadata": {},
   "source": [
    ">> ## Data Ingestion and  Data Preprocessing"
   ]
  },
  {
   "cell_type": "code",
   "execution_count": 2,
   "metadata": {},
   "outputs": [],
   "source": [
    "from scripts.telegram_scrapper import start_scraping\n"
   ]
  },
  {
   "cell_type": "markdown",
   "metadata": {},
   "source": [
    ">>> ### Identify and connect to relevant Telegram channels"
   ]
  },
  {
   "cell_type": "code",
   "execution_count": 3,
   "metadata": {},
   "outputs": [
    {
     "name": "stdout",
     "output_type": "stream",
     "text": [
      "Scrapping data...\n",
      "Scraping historical data from @ZemenExpress (Zemen Express®)...\n",
      "Finished scraping @ZemenExpress\n",
      "Scraping historical data from @nevacomputer (NEVA COMPUTER®)...\n",
      "Finished scraping @nevacomputer\n",
      "Scraping historical data from @helloomarketethiopia (HellooMarket)...\n",
      "Finished scraping @helloomarketethiopia\n",
      "Scraping historical data from @forfreemarket (4Free Market🇪🇹)...\n",
      "Finished scraping @forfreemarket\n",
      "Scraping historical data from @Shewabrand (Shewa Brand)...\n",
      "Finished scraping @Shewabrand\n",
      "Listening for real-time messages...\n"
     ]
    }
   ],
   "source": [
    "channel = ['@ZemenExpress',            \n",
    "           '@nevacomputer', \n",
    "           '@helloomarketethiopia',\n",
    "           '@forfreemarket',\n",
    "           '@Shewabrand']       \n",
    "        \n",
    "# Call the scraping function\n",
    "start_scraping(channel)\n"
   ]
  },
  {
   "cell_type": "code",
   "execution_count": 6,
   "metadata": {},
   "outputs": [],
   "source": [
    "data = pd.read_csv(\"telegram_data.csv\", delimiter=\",\")\n",
    "\n",
    "\n",
    "import re"
   ]
  },
  {
   "cell_type": "code",
   "execution_count": 8,
   "metadata": {},
   "outputs": [
    {
     "data": {
      "text/html": [
       "<div>\n",
       "<style scoped>\n",
       "    .dataframe tbody tr th:only-of-type {\n",
       "        vertical-align: middle;\n",
       "    }\n",
       "\n",
       "    .dataframe tbody tr th {\n",
       "        vertical-align: top;\n",
       "    }\n",
       "\n",
       "    .dataframe thead th {\n",
       "        text-align: right;\n",
       "    }\n",
       "</style>\n",
       "<table border=\"1\" class=\"dataframe\">\n",
       "  <thead>\n",
       "    <tr style=\"text-align: right;\">\n",
       "      <th></th>\n",
       "      <th>Message Date</th>\n",
       "      <th>Sender ID</th>\n",
       "      <th>Message ID</th>\n",
       "      <th>Product Description</th>\n",
       "    </tr>\n",
       "  </thead>\n",
       "  <tbody>\n",
       "    <tr>\n",
       "      <th>0</th>\n",
       "      <td>2025-01-16 12:49:25</td>\n",
       "      <td>-1001307493052</td>\n",
       "      <td>6020</td>\n",
       "      <td>የጡት ጫፍ ዋጋ፦ 400 ብር አድራሻ ቁ 1 መገናኛ መሰረት ደፋር ሞል ሁለ...</td>\n",
       "    </tr>\n",
       "    <tr>\n",
       "      <th>1</th>\n",
       "      <td>2025-01-16 06:29:40</td>\n",
       "      <td>-1001307493052</td>\n",
       "      <td>6016</td>\n",
       "      <td>2 1 ከመቀነሻ በተጨማሪ እንደ ስፕሬይ የሚያገለግል ዋጋ፦ 1100 ብር ው...</td>\n",
       "    </tr>\n",
       "    <tr>\n",
       "      <th>2</th>\n",
       "      <td>2025-01-16 06:28:10</td>\n",
       "      <td>-1001307493052</td>\n",
       "      <td>6015</td>\n",
       "      <td>2 1 ከመቀነሻ በተጨማሪ እንደ ስፕሬይ የሚያገለግል ዋጋ፦ 1100 ብር ው...</td>\n",
       "    </tr>\n",
       "    <tr>\n",
       "      <th>3</th>\n",
       "      <td>2025-01-15 05:43:58</td>\n",
       "      <td>-1001307493052</td>\n",
       "      <td>6013</td>\n",
       "      <td>መልካም በአል ለአጠቃቀም በጣም ምቹ እና ዘመናዊ ቆሻሻ የማይዝ 7000 ዋ...</td>\n",
       "    </tr>\n",
       "    <tr>\n",
       "      <th>4</th>\n",
       "      <td>2025-01-14 13:29:49</td>\n",
       "      <td>-1001307493052</td>\n",
       "      <td>6011</td>\n",
       "      <td>ከጠንካራ የተሰራ ለረጅም ሰአት ሙቀትን ጠብቆ ማቆየት የሚችል 1 5 24 ...</td>\n",
       "    </tr>\n",
       "    <tr>\n",
       "      <th>5</th>\n",
       "      <td>2025-01-14 08:17:04</td>\n",
       "      <td>-1001307493052</td>\n",
       "      <td>6007</td>\n",
       "      <td>300 750 360 ዋጋ፦ 2200 ብር ውስን ፍሬ ነው ያለው አድራሻ ቁ 1...</td>\n",
       "    </tr>\n",
       "    <tr>\n",
       "      <th>6</th>\n",
       "      <td>2025-01-14 06:39:27</td>\n",
       "      <td>-1001307493052</td>\n",
       "      <td>6006</td>\n",
       "      <td>የፀጉር ማስተካከያ የራስ ፀጉር እና ፂምን በስርአት እና በጥራት ለማስተካ...</td>\n",
       "    </tr>\n",
       "    <tr>\n",
       "      <th>7</th>\n",
       "      <td>2025-01-13 17:13:16</td>\n",
       "      <td>-1001307493052</td>\n",
       "      <td>6005</td>\n",
       "      <td>3 ዋጋ፦ 1700 ብር ውስን ፍሬ ነው ያለው አድራሻ ቁ 1 መገናኛ መሰረት...</td>\n",
       "    </tr>\n",
       "    <tr>\n",
       "      <th>8</th>\n",
       "      <td>2025-01-13 17:13:07</td>\n",
       "      <td>-1001307493052</td>\n",
       "      <td>6004</td>\n",
       "      <td>3 ዋጋ፦ 1700 ብር ውስን ፍሬ ነው ያለው አድራሻ ቁ 1 መገናኛ መሰረት...</td>\n",
       "    </tr>\n",
       "    <tr>\n",
       "      <th>9</th>\n",
       "      <td>2025-01-13 17:12:58</td>\n",
       "      <td>-1001307493052</td>\n",
       "      <td>6003</td>\n",
       "      <td>3 ዋጋ፦ 1700 ብር ውስን ፍሬ ነው ያለው አድራሻ ቁ 1 መገናኛ መሰረት...</td>\n",
       "    </tr>\n",
       "  </tbody>\n",
       "</table>\n",
       "</div>"
      ],
      "text/plain": [
       "          Message Date      Sender ID  Message ID  \\\n",
       "0  2025-01-16 12:49:25 -1001307493052        6020   \n",
       "1  2025-01-16 06:29:40 -1001307493052        6016   \n",
       "2  2025-01-16 06:28:10 -1001307493052        6015   \n",
       "3  2025-01-15 05:43:58 -1001307493052        6013   \n",
       "4  2025-01-14 13:29:49 -1001307493052        6011   \n",
       "5  2025-01-14 08:17:04 -1001307493052        6007   \n",
       "6  2025-01-14 06:39:27 -1001307493052        6006   \n",
       "7  2025-01-13 17:13:16 -1001307493052        6005   \n",
       "8  2025-01-13 17:13:07 -1001307493052        6004   \n",
       "9  2025-01-13 17:12:58 -1001307493052        6003   \n",
       "\n",
       "                                 Product Description  \n",
       "0  የጡት ጫፍ ዋጋ፦ 400 ብር አድራሻ ቁ 1 መገናኛ መሰረት ደፋር ሞል ሁለ...  \n",
       "1  2 1 ከመቀነሻ በተጨማሪ እንደ ስፕሬይ የሚያገለግል ዋጋ፦ 1100 ብር ው...  \n",
       "2  2 1 ከመቀነሻ በተጨማሪ እንደ ስፕሬይ የሚያገለግል ዋጋ፦ 1100 ብር ው...  \n",
       "3  መልካም በአል ለአጠቃቀም በጣም ምቹ እና ዘመናዊ ቆሻሻ የማይዝ 7000 ዋ...  \n",
       "4  ከጠንካራ የተሰራ ለረጅም ሰአት ሙቀትን ጠብቆ ማቆየት የሚችል 1 5 24 ...  \n",
       "5  300 750 360 ዋጋ፦ 2200 ብር ውስን ፍሬ ነው ያለው አድራሻ ቁ 1...  \n",
       "6  የፀጉር ማስተካከያ የራስ ፀጉር እና ፂምን በስርአት እና በጥራት ለማስተካ...  \n",
       "7  3 ዋጋ፦ 1700 ብር ውስን ፍሬ ነው ያለው አድራሻ ቁ 1 መገናኛ መሰረት...  \n",
       "8  3 ዋጋ፦ 1700 ብር ውስን ፍሬ ነው ያለው አድራሻ ቁ 1 መገናኛ መሰረት...  \n",
       "9  3 ዋጋ፦ 1700 ብር ውስን ፍሬ ነው ያለው አድራሻ ቁ 1 መገናኛ መሰረት...  "
      ]
     },
     "execution_count": 8,
     "metadata": {},
     "output_type": "execute_result"
    }
   ],
   "source": [
    "\n",
    "data.head(10)"
   ]
  },
  {
   "cell_type": "code",
   "execution_count": 13,
   "metadata": {},
   "outputs": [],
   "source": [
    "\n",
    "from amseg import AmharicSegmenter\n",
    "sent_punct = []\n",
    "word_punct = []\n",
    "segmenter = AmharicSegmenter(sent_punct, word_punct)"
   ]
  },
  {
   "cell_type": "markdown",
   "metadata": {},
   "source": [
    "### Preprocess text data by tokenizing, normalizing, and handling Amharic-specific linguistic features."
   ]
  },
  {
   "cell_type": "markdown",
   "metadata": {},
   "source": [
    "#### Tokenize Amharic text"
   ]
  },
  {
   "cell_type": "code",
   "execution_count": 14,
   "metadata": {},
   "outputs": [],
   "source": [
    "\n",
    "def tokenize_amharic_text(text):\n",
    "    \"\"\"\n",
    "    Tokenizes Amharic text using nltk word_tokenize \n",
    "    \"\"\"\n",
    "    tokens = segmenter.amharic_tokenizer(text)\n",
    "    return tokens"
   ]
  },
  {
   "cell_type": "markdown",
   "metadata": {},
   "source": [
    "### Normalizes Amharic text"
   ]
  },
  {
   "cell_type": "code",
   "execution_count": 16,
   "metadata": {},
   "outputs": [],
   "source": [
    "def normalize_amharic_text(text):\n",
    "    \"\"\"\n",
    "    Normalizes Amharic text by removing non-Amharic characters and handling case sensitivity.\n",
    "    \"\"\"\n",
    "    text = text.lower()\n",
    "    # Replace special punctuation marks with a space\n",
    "    text = re.sub(r'[፡።፣፤፥፦]', ' ', text)\n",
    "    # Remove any extra spaces\n",
    "    text = re.sub(r'\\s+', ' ', text).strip()\n",
    "    return text"
   ]
  }
 ],
 "metadata": {
  "kernelspec": {
   "display_name": ".week5",
   "language": "python",
   "name": "python3"
  },
  "language_info": {
   "codemirror_mode": {
    "name": "ipython",
    "version": 3
   },
   "file_extension": ".py",
   "mimetype": "text/x-python",
   "name": "python",
   "nbconvert_exporter": "python",
   "pygments_lexer": "ipython3",
   "version": "3.11.2"
  }
 },
 "nbformat": 4,
 "nbformat_minor": 2
}
