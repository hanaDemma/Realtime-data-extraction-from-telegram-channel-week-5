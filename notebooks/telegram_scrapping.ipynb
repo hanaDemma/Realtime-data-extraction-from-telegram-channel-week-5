{
 "cells": [
  {
   "cell_type": "code",
   "execution_count": 1,
   "metadata": {},
   "outputs": [],
   "source": [
    "import os\n",
    "os.chdir('..')\n",
    "import warnings\n",
    "warnings.filterwarnings('ignore')\n",
    "import pandas as pd"
   ]
  },
  {
   "cell_type": "code",
   "execution_count": 2,
   "metadata": {},
   "outputs": [],
   "source": [
    "from scripts.telegram_scrapper import start_scraping\n"
   ]
  },
  {
   "cell_type": "code",
   "execution_count": 3,
   "metadata": {},
   "outputs": [
    {
     "name": "stdout",
     "output_type": "stream",
     "text": [
      "Scrapping data...\n",
      "Scraping historical data from @ZemenExpress (Zemen Express®)...\n",
      "Finished scraping @ZemenExpress\n",
      "Scraping historical data from @nevacomputer (NEVA COMPUTER®)...\n",
      "Finished scraping @nevacomputer\n",
      "Scraping historical data from @helloomarketethiopia (HellooMarket)...\n"
     ]
    },
    {
     "name": "stderr",
     "output_type": "stream",
     "text": [
      "Unhandled exception on real_time_message_handler\n",
      "Traceback (most recent call last):\n",
      "  File \"d:\\week-5\\.week5\\Lib\\site-packages\\telethon\\client\\updates.py\", line 570, in _dispatch_update\n",
      "    await callback(event)\n",
      "  File \"d:\\week-5\\Realtime-data-extraction-from-telegram-channel-week-5\\scripts\\telegram_scrapper.py\", line 103, in real_time_message_handler\n",
      "    write_to_csv(message_date, sender_id, event.message.id, amharic_text)\n",
      "TypeError: write_to_csv() missing 2 required positional arguments: 'image_file' and 'document_file'\n"
     ]
    },
    {
     "name": "stdout",
     "output_type": "stream",
     "text": [
      "Finished scraping @helloomarketethiopia\n",
      "Scraping historical data from @forfreemarket (4Free Market🇪🇹)...\n",
      "Finished scraping @forfreemarket\n",
      "Scraping historical data from @Shewabrand (Shewa Brand)...\n",
      "Finished scraping @Shewabrand\n",
      "Listening for real-time messages...\n"
     ]
    }
   ],
   "source": [
    "channel = ['@ZemenExpress',            \n",
    "           '@nevacomputer', \n",
    "           '@helloomarketethiopia',\n",
    "           '@forfreemarket',\n",
    "           '@Shewabrand']\n",
    "\n",
    "# Call the scraping function\n",
    "start_scraping(channel)\n"
   ]
  }
 ],
 "metadata": {
  "kernelspec": {
   "display_name": ".week5",
   "language": "python",
   "name": "python3"
  },
  "language_info": {
   "codemirror_mode": {
    "name": "ipython",
    "version": 3
   },
   "file_extension": ".py",
   "mimetype": "text/x-python",
   "name": "python",
   "nbconvert_exporter": "python",
   "pygments_lexer": "ipython3",
   "version": "3.11.2"
  }
 },
 "nbformat": 4,
 "nbformat_minor": 2
}
